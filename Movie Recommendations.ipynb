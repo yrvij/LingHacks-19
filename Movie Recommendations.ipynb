{
 "cells": [
  {
   "cell_type": "markdown",
   "metadata": {},
   "source": [
    "# MOVIE RECOMMENDATIONS: "
   ]
  },
  {
   "cell_type": "markdown",
   "metadata": {},
   "source": [
    "# Imports:\n",
    "    1. sklearn: for cosine_similarity and CountVectorizer\n",
    "    2. rake_nltk: to analyze key phrases in text\n",
    "    3. pandas: to store data from CSV file of around 5000 movies"
   ]
  },
  {
   "cell_type": "code",
   "execution_count": 1,
   "metadata": {},
   "outputs": [],
   "source": [
    "import pandas as pd\n",
    "from rake_nltk import Rake\n",
    "import numpy as np\n",
    "from sklearn.metrics.pairwise import cosine_similarity\n",
    "from sklearn.feature_extraction.text import CountVectorizer\n",
    "from difflib import SequenceMatcher"
   ]
  },
  {
   "cell_type": "markdown",
   "metadata": {},
   "source": [
    "# Reads data from CSV file and stores it into pandas df:\n",
    "    -- Includes keywords of plot, the movie titles, genre, and director's name -- "
   ]
  },
  {
   "cell_type": "code",
   "execution_count": 2,
   "metadata": {},
   "outputs": [
    {
     "data": {
      "text/html": [
       "<div>\n",
       "<style scoped>\n",
       "    .dataframe tbody tr th:only-of-type {\n",
       "        vertical-align: middle;\n",
       "    }\n",
       "\n",
       "    .dataframe tbody tr th {\n",
       "        vertical-align: top;\n",
       "    }\n",
       "\n",
       "    .dataframe thead th {\n",
       "        text-align: right;\n",
       "    }\n",
       "</style>\n",
       "<table border=\"1\" class=\"dataframe\">\n",
       "  <thead>\n",
       "    <tr style=\"text-align: right;\">\n",
       "      <th></th>\n",
       "      <th>movie_title</th>\n",
       "      <th>genres</th>\n",
       "      <th>director_name</th>\n",
       "      <th>plot_keywords</th>\n",
       "    </tr>\n",
       "  </thead>\n",
       "  <tbody>\n",
       "    <tr>\n",
       "      <th>0</th>\n",
       "      <td>Avatar</td>\n",
       "      <td>Action|Adventure|Fantasy|Sci-Fi</td>\n",
       "      <td>James Cameron</td>\n",
       "      <td>avatar|future|marine|native|paraplegic</td>\n",
       "    </tr>\n",
       "    <tr>\n",
       "      <th>1</th>\n",
       "      <td>Pirates of the Caribbean: At World's End</td>\n",
       "      <td>Action|Adventure|Fantasy</td>\n",
       "      <td>Gore Verbinski</td>\n",
       "      <td>goddess|marriage ceremony|marriage proposal|pi...</td>\n",
       "    </tr>\n",
       "    <tr>\n",
       "      <th>2</th>\n",
       "      <td>Spectre</td>\n",
       "      <td>Action|Adventure|Thriller</td>\n",
       "      <td>Sam Mendes</td>\n",
       "      <td>bomb|espionage|sequel|spy|terrorist</td>\n",
       "    </tr>\n",
       "    <tr>\n",
       "      <th>3</th>\n",
       "      <td>The Dark Knight Rises</td>\n",
       "      <td>Action|Thriller</td>\n",
       "      <td>Christopher Nolan</td>\n",
       "      <td>deception|imprisonment|lawlessness|police offi...</td>\n",
       "    </tr>\n",
       "    <tr>\n",
       "      <th>4</th>\n",
       "      <td>Star Wars: Episode VII - The Force Awakens    ...</td>\n",
       "      <td>Documentary</td>\n",
       "      <td>Doug Walker</td>\n",
       "      <td>NaN</td>\n",
       "    </tr>\n",
       "  </tbody>\n",
       "</table>\n",
       "</div>"
      ],
      "text/plain": [
       "                                         movie_title  \\\n",
       "0                                            Avatar    \n",
       "1          Pirates of the Caribbean: At World's End    \n",
       "2                                           Spectre    \n",
       "3                             The Dark Knight Rises    \n",
       "4  Star Wars: Episode VII - The Force Awakens    ...   \n",
       "\n",
       "                            genres      director_name  \\\n",
       "0  Action|Adventure|Fantasy|Sci-Fi      James Cameron   \n",
       "1         Action|Adventure|Fantasy     Gore Verbinski   \n",
       "2        Action|Adventure|Thriller         Sam Mendes   \n",
       "3                  Action|Thriller  Christopher Nolan   \n",
       "4                      Documentary        Doug Walker   \n",
       "\n",
       "                                       plot_keywords  \n",
       "0             avatar|future|marine|native|paraplegic  \n",
       "1  goddess|marriage ceremony|marriage proposal|pi...  \n",
       "2                bomb|espionage|sequel|spy|terrorist  \n",
       "3  deception|imprisonment|lawlessness|police offi...  \n",
       "4                                                NaN  "
      ]
     },
     "execution_count": 2,
     "metadata": {},
     "output_type": "execute_result"
    }
   ],
   "source": [
    "df = pd.read_csv(\"movie_metadata.csv\", encoding='utf-8')\n",
    "df = df[['movie_title','genres','director_name','plot_keywords']]\n",
    "df.head()"
   ]
  },
  {
   "cell_type": "markdown",
   "metadata": {},
   "source": [
    "# Cleans data:\n",
    "    - Gets rid of excess characters (eg.: '|' and replaces any null entries with spaces)\n",
    "    - Lowercases any capital titles"
   ]
  },
  {
   "cell_type": "code",
   "execution_count": 3,
   "metadata": {},
   "outputs": [],
   "source": [
    "df = df.replace(np.nan, '', regex = True)\n",
    "df['plot_keywords']= [review.replace(\"|\",\" \") for review in df['plot_keywords'].values]\n",
    "df['genres']= [review.replace(\"|\",\" \") for review in df['genres'].values]"
   ]
  },
  {
   "cell_type": "code",
   "execution_count": 4,
   "metadata": {},
   "outputs": [
    {
     "data": {
      "text/html": [
       "<div>\n",
       "<style scoped>\n",
       "    .dataframe tbody tr th:only-of-type {\n",
       "        vertical-align: middle;\n",
       "    }\n",
       "\n",
       "    .dataframe tbody tr th {\n",
       "        vertical-align: top;\n",
       "    }\n",
       "\n",
       "    .dataframe thead th {\n",
       "        text-align: right;\n",
       "    }\n",
       "</style>\n",
       "<table border=\"1\" class=\"dataframe\">\n",
       "  <thead>\n",
       "    <tr style=\"text-align: right;\">\n",
       "      <th></th>\n",
       "      <th>movie_title</th>\n",
       "      <th>genres</th>\n",
       "      <th>director_name</th>\n",
       "      <th>plot_keywords</th>\n",
       "      <th>Key_words</th>\n",
       "    </tr>\n",
       "  </thead>\n",
       "  <tbody>\n",
       "    <tr>\n",
       "      <th>0</th>\n",
       "      <td>Avatar</td>\n",
       "      <td>Action Adventure Fantasy Sci-Fi</td>\n",
       "      <td>James Cameron</td>\n",
       "      <td>avatar future marine native paraplegic</td>\n",
       "      <td>avatar future marine native paraplegic Action ...</td>\n",
       "    </tr>\n",
       "    <tr>\n",
       "      <th>1</th>\n",
       "      <td>Pirates of the Caribbean: At World's End</td>\n",
       "      <td>Action Adventure Fantasy</td>\n",
       "      <td>Gore Verbinski</td>\n",
       "      <td>goddess marriage ceremony marriage proposal pi...</td>\n",
       "      <td>goddess marriage ceremony marriage proposal pi...</td>\n",
       "    </tr>\n",
       "    <tr>\n",
       "      <th>2</th>\n",
       "      <td>Spectre</td>\n",
       "      <td>Action Adventure Thriller</td>\n",
       "      <td>Sam Mendes</td>\n",
       "      <td>bomb espionage sequel spy terrorist</td>\n",
       "      <td>bomb espionage sequel spy terrorist Action Adv...</td>\n",
       "    </tr>\n",
       "    <tr>\n",
       "      <th>3</th>\n",
       "      <td>The Dark Knight Rises</td>\n",
       "      <td>Action Thriller</td>\n",
       "      <td>Christopher Nolan</td>\n",
       "      <td>deception imprisonment lawlessness police offi...</td>\n",
       "      <td>deception imprisonment lawlessness police offi...</td>\n",
       "    </tr>\n",
       "    <tr>\n",
       "      <th>4</th>\n",
       "      <td>Star Wars: Episode VII - The Force Awakens    ...</td>\n",
       "      <td>Documentary</td>\n",
       "      <td>Doug Walker</td>\n",
       "      <td></td>\n",
       "      <td>Documentary Doug Walker</td>\n",
       "    </tr>\n",
       "  </tbody>\n",
       "</table>\n",
       "</div>"
      ],
      "text/plain": [
       "                                         movie_title  \\\n",
       "0                                             Avatar   \n",
       "1           Pirates of the Caribbean: At World's End   \n",
       "2                                            Spectre   \n",
       "3                              The Dark Knight Rises   \n",
       "4  Star Wars: Episode VII - The Force Awakens    ...   \n",
       "\n",
       "                            genres      director_name  \\\n",
       "0  Action Adventure Fantasy Sci-Fi      James Cameron   \n",
       "1         Action Adventure Fantasy     Gore Verbinski   \n",
       "2        Action Adventure Thriller         Sam Mendes   \n",
       "3                  Action Thriller  Christopher Nolan   \n",
       "4                      Documentary        Doug Walker   \n",
       "\n",
       "                                       plot_keywords  \\\n",
       "0             avatar future marine native paraplegic   \n",
       "1  goddess marriage ceremony marriage proposal pi...   \n",
       "2                bomb espionage sequel spy terrorist   \n",
       "3  deception imprisonment lawlessness police offi...   \n",
       "4                                                      \n",
       "\n",
       "                                           Key_words  \n",
       "0  avatar future marine native paraplegic Action ...  \n",
       "1  goddess marriage ceremony marriage proposal pi...  \n",
       "2  bomb espionage sequel spy terrorist Action Adv...  \n",
       "3  deception imprisonment lawlessness police offi...  \n",
       "4                            Documentary Doug Walker  "
      ]
     },
     "execution_count": 4,
     "metadata": {},
     "output_type": "execute_result"
    }
   ],
   "source": [
    "df['Key_words'] = \"\"\n",
    "df['Key_words'] = df[\"plot_keywords\"].map(str) + ' ' + df['genres'].map(str) + ' ' + df['director_name']\n",
    "\n",
    "c = df.columns[df.dtypes == object]\n",
    "df[c] = df[c].apply(lambda x: x.str.replace(r'[^\\x00-\\x7F]+', ''))\n",
    "df.head()"
   ]
  },
  {
   "cell_type": "markdown",
   "metadata": {},
   "source": [
    "# Vectorizing Data:\n",
    "    - Generates similarity matrix with similarity indices based on how similar keywords are to one another "
   ]
  },
  {
   "cell_type": "code",
   "execution_count": 5,
   "metadata": {},
   "outputs": [
    {
     "name": "stdout",
     "output_type": "stream",
     "text": [
      "[[1.         0.23145502 0.18257419 ... 0.         0.         0.        ]\n",
      " [0.23145502 1.         0.16903085 ... 0.         0.         0.        ]\n",
      " [0.18257419 0.16903085 1.         ... 0.14142136 0.         0.        ]\n",
      " ...\n",
      " [0.         0.         0.14142136 ... 1.         0.2        0.        ]\n",
      " [0.         0.         0.         ... 0.2        1.         0.        ]\n",
      " [0.         0.         0.         ... 0.         0.         1.        ]]\n"
     ]
    }
   ],
   "source": [
    "count = CountVectorizer()\n",
    "count_matrix = count.fit_transform(df['Key_words'])\n",
    "sim_matrix = cosine_similarity(count_matrix, count_matrix)\n",
    "print(sim_matrix)"
   ]
  },
  {
   "cell_type": "markdown",
   "metadata": {},
   "source": [
    "# Get Movie Recommendations:\n",
    "    - Finds the movies that are quite similar to user's request (a.k.a: ones with highest similarity scores)"
   ]
  },
  {
   "cell_type": "code",
   "execution_count": 6,
   "metadata": {},
   "outputs": [],
   "source": [
    "def recommendations(title,num):\n",
    "    recommended_movies = []\n",
    "    idx = df[df['movie_title'] == title].index[0]\n",
    "    score_series = pd.Series(sim_matrix[idx]).sort_values(ascending = False)\n",
    "\n",
    "    top_10_indexes = list(score_series.iloc[1:num+1].index)\n",
    "    \n",
    "    for i in top_10_indexes:\n",
    "        recommended_movies.append(list(df.index)[i])\n",
    "        \n",
    "    recs = set(df.iloc[recommended_movies]['movie_title'])\n",
    "    if title in recs:\n",
    "        recs.remove(title)\n",
    "    \n",
    "    return recs"
   ]
  },
  {
   "cell_type": "markdown",
   "metadata": {},
   "source": [
    "# Implements Process:\n",
    "    - Gets movie title (that is within database) from user and print a definite user-defined number of movierecommendations within database\n",
    "    - If user enters \"movie franchise\" (i.e.: Star Wars, Harry Potter, etc.), it finds the one with the highest similarity ratio using SequenceMatcher and adjusts it to the database of 5000+ films"
   ]
  },
  {
   "cell_type": "code",
   "execution_count": 7,
   "metadata": {},
   "outputs": [],
   "source": [
    "def similar(a, b):\n",
    "    return SequenceMatcher(None, a, b).ratio()"
   ]
  },
  {
   "cell_type": "code",
   "execution_count": 8,
   "metadata": {},
   "outputs": [],
   "source": [
    "def adjustToDatabase(movie):\n",
    "    orig = movie\n",
    "    max_sim = -1\n",
    "    if orig not in df['movie_title']:\n",
    "        for item in df['movie_title']:\n",
    "            if orig == item[:len(orig)]:\n",
    "                if similar(orig,movie[:len(orig)]) > max_sim:\n",
    "                    max_sim = similar(orig,orig[:len(orig)])\n",
    "                    orig = item\n",
    "    return orig"
   ]
  },
  {
   "cell_type": "code",
   "execution_count": 9,
   "metadata": {},
   "outputs": [],
   "source": [
    "def main():\n",
    "    print('Select a movie from our vast selection of 5000+ movies and receive instant movie recommendations!')\n",
    "    print()\n",
    "    while True:\n",
    "        print('Enter a movie:')\n",
    "        movie = adjustToDatabase(input())\n",
    "        \n",
    "        try:\n",
    "            recommendations(movie,0)\n",
    "            print('How many movie recommendations would you like?:')\n",
    "            number = int(input())\n",
    "            print()\n",
    "            print('Here are some movie recommendations:')\n",
    "            for i,item in enumerate(recommendations(movie,number)):\n",
    "                print(str(i+1) + \". \" + item)\n",
    "            print()\n",
    "            print('Would you like to enter another?')\n",
    "            response = input()\n",
    "            if response[0].lower() == 'y':\n",
    "                print()\n",
    "                continue\n",
    "            else:\n",
    "                print()\n",
    "                print('Thank you for using our MOVIE RECOMMENDATIONS WIDGET!')\n",
    "                break\n",
    "        except IndexError:\n",
    "            print()\n",
    "            print('*ERROR: THIS MOVIE IS UNAVAILABLE IN OUR DATABASE.*')\n",
    "            print('Please try another one.')\n",
    "            print()\n",
    "            continue"
   ]
  },
  {
   "cell_type": "code",
   "execution_count": null,
   "metadata": {},
   "outputs": [],
   "source": [
    "main()"
   ]
  }
 ],
 "metadata": {
  "kernelspec": {
   "display_name": "Python 3",
   "language": "python",
   "name": "python3"
  },
  "language_info": {
   "codemirror_mode": {
    "name": "ipython",
    "version": 3
   },
   "file_extension": ".py",
   "mimetype": "text/x-python",
   "name": "python",
   "nbconvert_exporter": "python",
   "pygments_lexer": "ipython3",
   "version": "3.6.5"
  }
 },
 "nbformat": 4,
 "nbformat_minor": 2
}
